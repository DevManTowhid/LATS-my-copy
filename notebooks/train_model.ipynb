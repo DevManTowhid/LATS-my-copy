{
 "cells": [
  {
   "cell_type": "code",
   "execution_count": null,
   "id": "81e514bf",
   "metadata": {},
   "outputs": [],
   "source": [
    "# Import necessary libraries\n",
    "from transformers import PegasusTokenizer, PegasusForConditionalGeneration\n",
    "from datasets import load_dataset\n",
    "from src.model.fine_tuning import fine_tune_model\n",
    "from src.data_preprocessing.tokenization import load_tokenizer, preprocess_data\n",
    "from src.model.evaluation import evaluate_model\n",
    "import logging"
   ]
  },
  {
   "cell_type": "code",
   "execution_count": null,
   "id": "955d4c74",
   "metadata": {},
   "outputs": [],
   "source": [
    "# Set up logging\n",
    "logging.basicConfig(filename='logs/main.log', level=logging.INFO)"
   ]
  },
  {
   "cell_type": "code",
   "execution_count": null,
   "id": "3c60e9e1",
   "metadata": {},
   "outputs": [],
   "source": [
    "# Step 1: Load the dataset and tokenizer\n",
    "tokenizer = load_tokenizer()\n",
    "train_data = load_dataset(\"cnn_dailymail\", split=\"train[:10%]\")\n",
    "train_data = preprocess_data(train_data, tokenizer)\n"
   ]
  },
  {
   "cell_type": "code",
   "execution_count": null,
   "id": "e260610c",
   "metadata": {},
   "outputs": [],
   "source": [
    "# Step 2: Load Pretrained Model (PEGASUS)\n",
    "model = PegasusForConditionalGeneration.from_pretrained(\"google/pegasus-cnn_dailymail\")\n"
   ]
  },
  {
   "cell_type": "code",
   "execution_count": null,
   "id": "0d8411e1",
   "metadata": {},
   "outputs": [],
   "source": [
    "# Step 3: Fine-tune the model\n",
    "fine_tune_model(model, train_data)\n"
   ]
  },
  {
   "cell_type": "code",
   "execution_count": null,
   "id": "564ab37d",
   "metadata": {},
   "outputs": [],
   "source": [
    "# Step 4: Evaluate the model\n",
    "evaluate_model(model, train_data)\n"
   ]
  },
  {
   "cell_type": "code",
   "execution_count": null,
   "id": "d4726872",
   "metadata": {},
   "outputs": [],
   "source": [
    "\n",
    "# Step 5: Save the fine-tuned model\n",
    "model.save_pretrained(\"models/fine_tuned/pegasus_model\")\n"
   ]
  }
 ],
 "metadata": {
  "language_info": {
   "name": "python"
  }
 },
 "nbformat": 4,
 "nbformat_minor": 5
}
