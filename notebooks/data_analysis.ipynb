{
 "cells": [
  {
   "cell_type": "code",
   "execution_count": null,
   "id": "5af3102b",
   "metadata": {},
   "outputs": [],
   "source": [
    "import matplotlib.pyplot as plt\n",
    "from datasets import load_dataset\n",
    "\n",
    "# Load dataset\n",
    "dataset = load_dataset(\"cnn_dailymail\", split=\"train[:10%]\")\n",
    "\n",
    "# Display basic statistics\n",
    "print(\"Dataset Info:\")\n",
    "print(dataset)\n",
    "\n",
    "# Check the distribution of document lengths\n",
    "document_lengths = dataset['article'].map(lambda x: len(x.split()))\n",
    "\n",
    "# Plot distribution of document lengths\n",
    "plt.hist(document_lengths, bins=50)\n",
    "plt.title('Distribution of Document Lengths')\n",
    "plt.xlabel('Length of Documents')\n",
    "plt.ylabel('Frequency')\n",
    "plt.show()\n",
    "\n",
    "# You can also analyze other features (e.g., target summary length, etc.)\n"
   ]
  }
 ],
 "metadata": {
  "language_info": {
   "name": "python"
  }
 },
 "nbformat": 4,
 "nbformat_minor": 5
}
