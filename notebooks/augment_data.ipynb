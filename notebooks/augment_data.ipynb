{
 "cells": [
  {
   "cell_type": "code",
   "execution_count": null,
   "id": "88fc4e63",
   "metadata": {},
   "outputs": [],
   "source": [
    "import nlpaug.augmenter.word as naw\n",
    "from datasets import load_dataset\n",
    "\n",
    "# Load dataset\n",
    "dataset = load_dataset(\"cnn_dailymail\", split=\"train[:10%]\")  # Example dataset\n",
    "\n",
    "# Create an augmenter (you can use other augmenters like back-translation or sentence shuffling)\n",
    "aug = naw.SynonymAug(aug_p=0.1)\n",
    "\n",
    "# Function to augment text\n",
    "def augment_text(text):\n",
    "    return aug.augment(text)\n",
    "\n",
    "# Apply data augmentation\n",
    "dataset = dataset.map(lambda x: {\"augmented_text\": augment_text(x['article'])}, batched=True)\n",
    "\n",
    "# Save augmented data to the 'augmented/' folder\n",
    "dataset.save_to_disk('data/augmented')\n"
   ]
  }
 ],
 "metadata": {
  "language_info": {
   "name": "python"
  }
 },
 "nbformat": 4,
 "nbformat_minor": 5
}
